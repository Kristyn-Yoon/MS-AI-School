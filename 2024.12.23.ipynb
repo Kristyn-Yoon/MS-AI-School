{
 "cells": [
  {
   "cell_type": "markdown",
   "metadata": {},
   "source": [
    "# 2024-12-23"
   ]
  },
  {
   "cell_type": "markdown",
   "metadata": {},
   "source": [
    "# 구구단 출력\n",
    "\n",
    "2.4.6.8.10.12.14.16.18\n",
    "\n",
    "2*1 2*2 2*3 ... 2*9"
   ]
  },
  {
   "cell_type": "code",
   "execution_count": 10,
   "metadata": {},
   "outputs": [
    {
     "name": "stdout",
     "output_type": "stream",
     "text": [
      "2 4 6 8 10 12 14 16 18 \n",
      "3 6 9 12 15 18 21 24 27 \n",
      "4 8 12 16 20 24 28 32 36 \n",
      "5 10 15 20 25 30 35 40 45 \n",
      "6 12 18 24 30 36 42 48 54 \n",
      "7 14 21 28 35 42 49 56 63 \n",
      "8 16 24 32 40 48 56 64 72 \n",
      "9 18 27 36 45 54 63 72 81 \n"
     ]
    }
   ],
   "source": [
    "for dan in range(2,10):\n",
    "    for su in range(1,10):\n",
    "        print(dan*su,end=\" \")\n",
    "    print() #줄 바꾸기기\n"
   ]
  },
  {
   "cell_type": "markdown",
   "metadata": {},
   "source": [
    "# 자판기 동작 만들어보기\n",
    "\n",
    "커피의 처음 갯수는 10개 입니다.\n",
    "\n",
    "사용자로부터 돈을 입력 받습니다.\n",
    "\n",
    "만약 입력 급액이 300원이면 커피를 주고 커피의 갯수를 1개 감소시킵니다.\n",
    "\n",
    "만약 입력 금액이 300원 초과이면 커피를 주고 개수를 1개 감소시킨 뒤 거스름돈 제공\n",
    "\n",
    "그렇지 않으면 돈을 다시 돌려주고 남은 커피의 양을 알려줍니다.\n",
    "\n",
    "만약 커피가 다 떨어졌으면 판매를 중지합니다."
   ]
  },
  {
   "cell_type": "code",
   "execution_count": 3,
   "metadata": {},
   "outputs": [
    {
     "name": "stdout",
     "output_type": "stream",
     "text": [
      "남은 커피 : 10\n"
     ]
    }
   ],
   "source": [
    "# 자판기 동작 만들어보기\n",
    "\n",
    "cup = 10\n",
    "\n",
    "while cup > 0:\n",
    "    print(f\"남은 커피 : {cup}\")\n",
    "    money = int(input(\"돈을 넣어주세요 : \")) # 정수형으로 입력 받음\n",
    "\n",
    "    if money == 300:\n",
    "        print(\"커피를 제공합니다.\")\n",
    "        cup -= 1\n",
    "    elif money > 300:\n",
    "        change = money - 300\n",
    "        print(f\"커피를 제공합니다. 거스름돈은 {change}원입니다.\")\n",
    "        cup -= 1\n",
    "    else:\n",
    "        print(f\"금액이 부족합니다. {money}원을 반환합니다.\")\n",
    "\n",
    "print(\"커피가 모두 소진되었습니다. 판매를 중지합니다.\")"
   ]
  },
  {
   "cell_type": "markdown",
   "metadata": {},
   "source": [
    "조언\n",
    "\n",
    "if <표현식>:, while <표현식>:에서 <표현식> 부분이 bool 타입이 아니라면 실행 중에 bool타입으로 변환된다고 생각하면 좋습니다.\n",
    " \n",
    "예를 들어 stock == 10일 때 \n",
    "if stock: --> if 10: --> if True: 과 같이 평가됩니다.\n",
    " \n",
    "stock == 0일 때에는\n",
    "if stock: --> if 0: --> if False: 와 같이 평가됩니다!\n",
    "\n",
    "stock이 양수이며 실행 중에 줄어든다고 가정할 때,\n",
    " \n",
    "if bool(stock): : 이렇게 작성할 필요는 없습니다!\n",
    " \n",
    "if stock != 0: : 이것도 굳이 이렇게 쓸 필요가 없지만, 자신이 읽기 편하다면 이렇게 쓰는 것이 좋습니다.\n",
    " \n",
    "if stock > 0: : 이건 기존 코드와는 완전히 다릅니다. 만약 stock이 1씩 줄어들지 않는다면 stock이 음수가 될 수도 있습니다. 이 경우에는 stock == 0인 순간을 건너뛸 수 있기 때문에 종료 조건에 걸리지 않습니다. 즉 무한 루프에 빠질 수 있습니다. 부등호는 안전하게 이런 경우를 처리하게 도와줍니다."
   ]
  },
  {
   "cell_type": "markdown",
   "metadata": {},
   "source": [
    "# 딕셔너리 연습"
   ]
  },
  {
   "cell_type": "code",
   "execution_count": 86,
   "metadata": {},
   "outputs": [],
   "source": [
    "menu = {'김밥':2000,'라면':3000,'돈까스':5000} # 키값으로 확인가능. 위치 없음음\n",
    "menus = {'김밥':2000,'라면':3000,'돈까스':5000}"
   ]
  },
  {
   "cell_type": "code",
   "execution_count": 57,
   "metadata": {},
   "outputs": [
    {
     "name": "stdout",
     "output_type": "stream",
     "text": [
      "<class 'dict'>\n"
     ]
    }
   ],
   "source": [
    "print(type(menu))"
   ]
  },
  {
   "cell_type": "code",
   "execution_count": 58,
   "metadata": {},
   "outputs": [
    {
     "data": {
      "text/plain": [
       "2000"
      ]
     },
     "execution_count": 58,
     "metadata": {},
     "output_type": "execute_result"
    }
   ],
   "source": [
    "menu ['김밥']"
   ]
  },
  {
   "cell_type": "code",
   "execution_count": 59,
   "metadata": {},
   "outputs": [
    {
     "data": {
      "text/plain": [
       "{'김밥': 2500, '라면': 3000, '돈까스': 5000}"
      ]
     },
     "execution_count": 59,
     "metadata": {},
     "output_type": "execute_result"
    }
   ],
   "source": [
    "menu['김밥'] =2500\n",
    "menu"
   ]
  },
  {
   "cell_type": "code",
   "execution_count": 60,
   "metadata": {},
   "outputs": [
    {
     "data": {
      "text/plain": [
       "{'김밥': 2500, '라면': 3000, '돈까스': 5000, '떡볶이': 3000}"
      ]
     },
     "execution_count": 60,
     "metadata": {},
     "output_type": "execute_result"
    }
   ],
   "source": [
    "menu['떡볶이'] = 3000\n",
    "menu \n",
    "#list에서는 range에 없다고 뜨지만. 딕셔너리에서는 추가됨.\n",
    "#순서가 없음. 키값으로 접근. 키값 예시 : '김밥' 등등등"
   ]
  },
  {
   "cell_type": "code",
   "execution_count": 13,
   "metadata": {},
   "outputs": [
    {
     "ename": "KeyError",
     "evalue": "'로제떡볶이'",
     "output_type": "error",
     "traceback": [
      "\u001b[1;31m---------------------------------------------------------------------------\u001b[0m",
      "\u001b[1;31mKeyError\u001b[0m                                  Traceback (most recent call last)",
      "Cell \u001b[1;32mIn[13], line 1\u001b[0m\n\u001b[1;32m----> 1\u001b[0m \u001b[43mmenu\u001b[49m\u001b[43m[\u001b[49m\u001b[38;5;124;43m'\u001b[39;49m\u001b[38;5;124;43m로제떡볶이\u001b[39;49m\u001b[38;5;124;43m'\u001b[39;49m\u001b[43m]\u001b[49m \u001b[38;5;241m+\u001b[39m\u001b[38;5;241m=\u001b[39m \u001b[38;5;241m3000\u001b[39m\n\u001b[0;32m      2\u001b[0m menu\n",
      "\u001b[1;31mKeyError\u001b[0m: '로제떡볶이'"
     ]
    }
   ],
   "source": [
    "#menu['로제떡볶이'] += 3000 # +때문에 keyerror 일어남남\n",
    "#menu"
   ]
  },
  {
   "cell_type": "code",
   "execution_count": 76,
   "metadata": {},
   "outputs": [
    {
     "data": {
      "text/plain": [
       "dict_keys(['김밥', '라면', '돈까스'])"
      ]
     },
     "execution_count": 76,
     "metadata": {},
     "output_type": "execute_result"
    }
   ],
   "source": [
    "menus.keys()"
   ]
  },
  {
   "cell_type": "code",
   "execution_count": 69,
   "metadata": {},
   "outputs": [
    {
     "data": {
      "text/plain": [
       "['김밥', '라면', '돈까스']"
      ]
     },
     "execution_count": 69,
     "metadata": {},
     "output_type": "execute_result"
    }
   ],
   "source": [
    "list(menus.keys()) # lsit로 형변환 가능능"
   ]
  },
  {
   "cell_type": "code",
   "execution_count": 77,
   "metadata": {},
   "outputs": [
    {
     "data": {
      "text/plain": [
       "dict_values([2000, 3000, 5000])"
      ]
     },
     "execution_count": 77,
     "metadata": {},
     "output_type": "execute_result"
    }
   ],
   "source": [
    "menus.values()"
   ]
  },
  {
   "cell_type": "code",
   "execution_count": 78,
   "metadata": {},
   "outputs": [
    {
     "data": {
      "text/plain": [
       "dict_items([('김밥', 2000), ('라면', 3000), ('돈까스', 5000)])"
      ]
     },
     "execution_count": 78,
     "metadata": {},
     "output_type": "execute_result"
    }
   ],
   "source": [
    "menus.items() #튜플플"
   ]
  },
  {
   "cell_type": "code",
   "execution_count": 79,
   "metadata": {},
   "outputs": [
    {
     "name": "stdout",
     "output_type": "stream",
     "text": [
      "김밥\n",
      "라면\n",
      "돈까스\n"
     ]
    }
   ],
   "source": [
    "for menus in menus.keys():\n",
    "    print(menus)"
   ]
  },
  {
   "cell_type": "code",
   "execution_count": 80,
   "metadata": {},
   "outputs": [
    {
     "name": "stdout",
     "output_type": "stream",
     "text": [
      "2000\n",
      "3000\n",
      "5000\n"
     ]
    }
   ],
   "source": [
    "for price in menu.values():\n",
    "    print(price)"
   ]
  },
  {
   "cell_type": "code",
   "execution_count": 81,
   "metadata": {},
   "outputs": [
    {
     "name": "stdout",
     "output_type": "stream",
     "text": [
      "('김밥', 2000)\n",
      "('라면', 3000)\n",
      "('돈까스', 5000)\n"
     ]
    }
   ],
   "source": [
    "for price in menu.items():\n",
    "    print(price)"
   ]
  },
  {
   "cell_type": "code",
   "execution_count": 61,
   "metadata": {},
   "outputs": [
    {
     "data": {
      "text/plain": [
       "{'김밥': 2500, '라면': 3000, '돈까스': 5000, '떡볶이': 3000}"
      ]
     },
     "execution_count": 61,
     "metadata": {},
     "output_type": "execute_result"
    }
   ],
   "source": [
    "menu"
   ]
  },
  {
   "cell_type": "code",
   "execution_count": 83,
   "metadata": {},
   "outputs": [
    {
     "data": {
      "text/plain": [
       "2000"
      ]
     },
     "execution_count": 83,
     "metadata": {},
     "output_type": "execute_result"
    }
   ],
   "source": [
    "menu.pop('김밥')"
   ]
  },
  {
   "cell_type": "code",
   "execution_count": 63,
   "metadata": {},
   "outputs": [
    {
     "data": {
      "text/plain": [
       "{'라면': 3000, '돈까스': 5000, '떡볶이': 3000}"
      ]
     },
     "execution_count": 63,
     "metadata": {},
     "output_type": "execute_result"
    }
   ],
   "source": [
    "menu"
   ]
  },
  {
   "cell_type": "code",
   "execution_count": 64,
   "metadata": {},
   "outputs": [
    {
     "data": {
      "text/plain": [
       "('떡볶이', 3000)"
      ]
     },
     "execution_count": 64,
     "metadata": {},
     "output_type": "execute_result"
    }
   ],
   "source": [
    "menu.popitem() # 맨뒤에 있는거 뽑음"
   ]
  },
  {
   "cell_type": "code",
   "execution_count": 90,
   "metadata": {},
   "outputs": [],
   "source": [
    "addrs = {'name':1000, 'phone':3000, 'addr':5000}\n",
    "#addrs_list = [{},{}] 꼴도 가능. 리스트 안에 딕셔너리 넣은거임.\n",
    "# 리스트 안에 딕셔너리가 있는 경우, 리스트 안에서 딕셔너리를 꺼내고, 딕셔너리에서 값을 꺼내야 함함"
   ]
  },
  {
   "cell_type": "code",
   "execution_count": 88,
   "metadata": {},
   "outputs": [
    {
     "name": "stdout",
     "output_type": "stream",
     "text": [
      "김밥 2000\n",
      "라면 3000\n",
      "돈까스 5000\n"
     ]
    }
   ],
   "source": [
    "for key, value in menus.items():\n",
    "    print(key,value)"
   ]
  },
  {
   "cell_type": "code",
   "execution_count": 91,
   "metadata": {},
   "outputs": [
    {
     "name": "stdout",
     "output_type": "stream",
     "text": [
      "None\n"
     ]
    }
   ],
   "source": [
    "print(menus.get('오뎅')) #키값이 없더라도 에러는 출력하지 않음"
   ]
  },
  {
   "cell_type": "markdown",
   "metadata": {},
   "source": [
    "[도전1] TODO LIST"
   ]
  },
  {
   "cell_type": "code",
   "execution_count": null,
   "metadata": {},
   "outputs": [
    {
     "name": "stdout",
     "output_type": "stream",
     "text": [
      "▶메뉴 선택(1:추가, 2:삭제, 0:종료)? "
     ]
    },
    {
     "name": "stdout",
     "output_type": "stream",
     "text": [
      "1\n",
      "할일 내용 입력>> 밥먹기\n",
      "**************************\n",
      "1.밥먹기\n",
      "**************************\n",
      "▶메뉴 선택(1:추가, 2:삭제, 0:종료)? 1\n",
      "할일 내용 입력>> 책읽기\n",
      "**************************\n",
      "1.밥먹기\n",
      "2.책읽기\n",
      "**************************\n",
      "▶메뉴 선택(1:추가, 2:삭제, 0:종료)? 2\n",
      "**************************\n",
      "1,책읽기\n",
      "**************************\n",
      "▶메뉴 선택(1:추가, 2:삭제, 0:종료)? 1\n",
      "할일 내용 입력>> 공부하기\n",
      "**************************\n",
      "1.책읽기\n",
      "2.공부하기\n",
      "**************************\n",
      "▶메뉴 선택(1:추가, 2:삭제, 0:종료)? 0\n",
      "프로그램을 종료합니다.\n"
     ]
    }
   ],
   "source": [
    "todos=[]\n",
    "\n",
    "while True:\n",
    "    print(\"▶메뉴 선택(1:추가, 2:삭제, 0:종료)? \", end=\"\") # 같은 줄에 출력\n",
    "    select = input()\n",
    "    print(f\"{select}\")\n",
    "\n",
    "    if select == \"1\":\n",
    "        print(\"할일 내용 입력>> \", end=\"\")\n",
    "        todo = input()\n",
    "        todos.append(todo)\n",
    "        print(f\"{todo}\")\n",
    "        print(\"**************************\")\n",
    "        num =1\n",
    "        for todo in todos:\n",
    "            print(f\"{num}.{todo}\")\n",
    "            num+=1\n",
    "        print(\"**************************\")\n",
    "\n",
    "    elif select == \"2\":\n",
    "        todo = input(\"완료한 내용 입력>>\")\n",
    "        if todo in todos:\n",
    "            todos.remove(todo)\n",
    "            print(\"**************************\")\n",
    "            num = 1\n",
    "            for todo in todos:\n",
    "                print(f\"{num}.{todo}\")\n",
    "                num+=1\n",
    "            print(\"**************************\")\n",
    "        else:\n",
    "            pint(\"해당 내용이 없습니다.\")\n",
    "\n",
    "    elif select == \"0\":\n",
    "        print(\"프로그램을 종료합니다.\")\n",
    "        break\n",
    "\n",
    "    else:\n",
    "        print(\"다시 선택하세요.\")\n"
   ]
  },
  {
   "cell_type": "markdown",
   "metadata": {},
   "source": [
    "[도전2] 친구 핸드폰번호 검색 프로그램"
   ]
  },
  {
   "cell_type": "code",
   "execution_count": 1,
   "metadata": {},
   "outputs": [
    {
     "name": "stdout",
     "output_type": "stream",
     "text": [
      "\n",
      " ▶메뉴 선택(1:추가, 2:검색, 0:종료)? 1\n",
      "친구 이름 입력>> 홍길동\n",
      "전화번호 입력>> 010-1234-0000\n",
      "\n",
      " ▶메뉴 선택(1:추가, 2:검색, 0:종료)? 2\n",
      "검색가능한 친구들:  ['최재원', '유재석', '김연수', '김우정', '김가현', '김혜현', '홍길동']\n",
      "친구이름 입력>> 유재석의 연락처 : 010-2222-1234\n",
      "\n",
      " ▶메뉴 선택(1:추가, 2:검색, 0:종료)? 5\n",
      "다시 선택하세요.\n",
      "\n",
      " ▶메뉴 선택(1:추가, 2:검색, 0:종료)? 0\n",
      "프로그램을 종료합니다.\n"
     ]
    }
   ],
   "source": [
    "friend_addrs = {'최재원':\"010-1111-1234\",'유재석':\"010-2222-1234\",\n",
    "                '김연수': \"010-3333-1234\",'김우정':\"010-4444-1234\",\n",
    "                '김가현':\"010-5555-1234\",'김혜현':\"010-6666-1234\"}\n",
    "\n",
    "while True:\n",
    "    print(\"\\n ▶메뉴 선택(1:추가, 2:검색, 0:종료)? \", end=\"\") # end =\" : 같은 줄에 출력\n",
    "    select = input()\n",
    "    print(f\"{select}\")\n",
    "\n",
    "    if select == \"1\":\n",
    "        print(\"친구 이름 입력>> \", end=\"\")\n",
    "        name = input()\n",
    "        print(f\"{name}\")\n",
    "        print(\"전화번호 입력>> \", end=\"\")\n",
    "        phone = input()\n",
    "        print(f\"{phone}\")\n",
    "        friend_addrs[name]=phone\n",
    "        \n",
    "    elif select == \"2\":\n",
    "        print(\"검색가능한 친구들: \", list(friend_addrs.keys()))\n",
    "        print(\"친구이름 입력>> \", end=\"\")\n",
    "        find_name = input()\n",
    "        if find_name in friend_addrs:\n",
    "            print(f\"{find_name}의 연락처 : {friend_addrs[find_name]}\")\n",
    "        else:\n",
    "            print(f\"{find_name}은(는) 목록에 없습니다.\")\n",
    "        \n",
    "    elif select == \"0\":\n",
    "        print(\"프로그램을 종료합니다.\")\n",
    "        break\n",
    "\n",
    "    else:\n",
    "        print(\"다시 선택하세요.\")"
   ]
  },
  {
   "cell_type": "markdown",
   "metadata": {},
   "source": [
    "[딕셔너리 업그레이드 미션]"
   ]
  },
  {
   "cell_type": "code",
   "execution_count": 2,
   "metadata": {},
   "outputs": [
    {
     "name": "stdout",
     "output_type": "stream",
     "text": [
      "파이썬 용어 사전\n",
      "입력단어->python is : a high-level programming language\n",
      "입력단어->loop is : a sequence of instructions that are continually repeated\n",
      "입력단어->apple is : 사전에 찾는 단어가 없어요!\n"
     ]
    }
   ],
   "source": [
    "term = {'python':\"a high-level programming language\",\n",
    "        'loop':\"a sequence of instructions that are continually repeated\"}\n",
    "\n",
    "print(\"파이썬 용어 사전\")\n",
    "while True:\n",
    "    print(\"입력단어->\",end=\"\")\n",
    "    find=input()\n",
    "    if find in term:\n",
    "        print(f\"{find} is : {term[find]}\")\n",
    "    else:\n",
    "        print(f\"{find} is : 사전에 찾는 단어가 없어요!\")\n",
    "        break\n",
    "\n"
   ]
  },
  {
   "cell_type": "markdown",
   "metadata": {},
   "source": [
    "[리스트 딕셔너리 업그레이드 미션]"
   ]
  },
  {
   "cell_type": "code",
   "execution_count": 18,
   "metadata": {},
   "outputs": [
    {
     "name": "stdout",
     "output_type": "stream",
     "text": [
      "Alice 평균 : 89.0\n",
      "Bob 평균 : 82.0\n",
      "Charlie 평균 : 92.0\n",
      "\n",
      "전체 평균 : 87.66666666666667\n",
      "\n",
      "90점 이상인 학생 명단 : ['Alice', 'Charlie']\n"
     ]
    }
   ],
   "source": [
    "stu={'Alice':[90,85,92],\n",
    "     'Bob':[78,80,88],\n",
    "     'Charlie':[95,92,89]}\n",
    "\n",
    "# print(stu['Alice']) # [90, 85, 92]\n",
    "# print(stu.values()) # dict_values([[90, 85, 92], [78, 80, 88], [95, 92, 89]])\n",
    "# print(stu['Alice'].values()) # [90, 85, 92].values() -> error\n",
    "\n",
    "alice_avg=sum(stu['Alice'])/len(stu['Alice'])\n",
    "bob_avg=sum(stu['Bob'])/len(stu['Bob'])\n",
    "charlie_avg=sum(stu['Charlie'])/len(stu['Charlie'])\n",
    "\n",
    "all_avg = (alice_avg+bob_avg+charlie_avg)/3\n",
    "good_stu = []\n",
    "\n",
    "# for item in stu.values():\n",
    "#     print(item)\n",
    "\n",
    "\n",
    "for name, value in stu.items():\n",
    "    # 리스트 내포 : 한줄 for문은 대괄호 안에 넣어야 함\n",
    "    if any(item>90 for item in value):\n",
    "        good_stu.append(name)\n",
    "# # 딕셔너리는 순서가 없기 때문에 for문에 쓸 수 없음\n",
    "# if any(num>=90 for num in stu):\n",
    "#     return \n",
    "\n",
    "\n",
    "print(f\"Alice 평균 : {alice_avg}\")\n",
    "print(f\"Bob 평균 : {bob_avg}\")\n",
    "print(f\"Charlie 평균 : {charlie_avg}\")    \n",
    "print(f\"\\n전체 평균 : {all_avg}\")\n",
    "print(f\"\\n90점 이상인 학생 명단 : {good_stu}\")"
   ]
  },
  {
   "cell_type": "code",
   "execution_count": 4,
   "metadata": {},
   "outputs": [
    {
     "name": "stdout",
     "output_type": "stream",
     "text": [
      "12\n"
     ]
    }
   ],
   "source": [
    "def num_max(a,b,c) :\n",
    "\n",
    "    if a>=b and a>=c:\n",
    "        return a\n",
    "    elif b>=a and b>=c:\n",
    "        return b\n",
    "    else:\n",
    "        return c\n",
    "\n",
    "num = num_max(10,12,7)\n",
    "print(f\"{num}\")"
   ]
  },
  {
   "cell_type": "markdown",
   "metadata": {},
   "source": []
  },
  {
   "cell_type": "code",
   "execution_count": 12,
   "metadata": {},
   "outputs": [
    {
     "name": "stdout",
     "output_type": "stream",
     "text": [
      "2022년은 윤년일까? False\n",
      "2010년은 윤년일까? False\n",
      "2000년은 윤년일까? True\n",
      "1900년은 윤년일까? False\n"
     ]
    }
   ],
   "source": [
    "def isLeapYear(year) :\n",
    "    \n",
    "    \n",
    "    if year%400 == 0:\n",
    "      return True\n",
    "    else :\n",
    "       return False\n",
    "\n",
    "print(f'2022년은 윤년일까? {isLeapYear(2022)}')\n",
    "print(f'2010년은 윤년일까? {isLeapYear(2010)}')\n",
    "print(f'2000년은 윤년일까? {isLeapYear(2000)}')\n",
    "print(f'1900년은 윤년일까? {isLeapYear(1900)}')\n",
    "\n"
   ]
  },
  {
   "cell_type": "code",
   "execution_count": 5,
   "metadata": {},
   "outputs": [
    {
     "name": "stdout",
     "output_type": "stream",
     "text": [
      "(13, 7, 30, 3.3333333333333335)\n"
     ]
    }
   ],
   "source": [
    "def func(a,b) :\n",
    "    c=a+b\n",
    "    e=a*b\n",
    "    if a>=b :\n",
    "        d=a-b\n",
    "        f=a/b\n",
    "    else :\n",
    "        d=b-a\n",
    "        f=b/a\n",
    "    return c,d,e,f\n",
    "    \n",
    "print(func(10,3))"
   ]
  },
  {
   "cell_type": "code",
   "execution_count": 2,
   "metadata": {},
   "outputs": [
    {
     "name": "stdout",
     "output_type": "stream",
     "text": [
      "Alice 평균 : 89.0\n",
      "Bob 평균 : 82.0\n",
      "Charlie 평균 : 92.0\n",
      "\n",
      "전체 평균 : 87.66666666666667\n",
      "\n",
      "90점 이상인 학생 명단 : ['Alice', 'Charlie']\n"
     ]
    }
   ],
   "source": [
    "stu={'Alice':[90,85,92],\n",
    "     'Bob':[78,80,88],\n",
    "     'Charlie':[95,92,89]} # 변수 stu는 딕셔너리로 각 key당 3개의 values들이 저장되어 있어.\n",
    "\n",
    "\n",
    "all_sum = 0\n",
    "for name in stu.keys(): # for 반복문을 사용하여 stu에서 key인 'Alice','Bob','Charlie'를 순서대로 불러 name이라는 변수로 사용돼\n",
    "    average = sum(stu[name])/len(stu[name]) # 평균을 구하기 위하여 받아온 key의 value(list들)를 다 더하고 list 길이만큼 나눠줌\n",
    "    print(f\"{name} 평균 : {average}\") # 출력해줄건데 key값(name)과 계산한 평균을 출력\n",
    "    all_sum += average # 모든 key들에 대한 평균을 다 더해주기 위하여 +=을 사용하여 더해줌줌\n",
    "\n",
    "all_avg = all_sum/3 # 전체 평균을 구하기 위해 /3\n",
    "good_stu = [] # 90점 이상인 친구들을 출력하기 위해 만든 리스트트\n",
    "\n",
    "for name, value in stu.items(): # [(key, value)] 형식인 stu.items()에서 key는 name으로, value는 value로 받아옴\n",
    "    if any(item>=90 for item in value): # value 리스트 안에 있는 정수 type요소를 item이 순서대로 받아옴. 하나라도 90점 이상이 있는 것을 찾기 위해 any 함수 사용\n",
    "        good_stu.append(name) # 만약 있다면 good.stu에 append를 사용하여 뒤로 순차적으로 이름을 추가함\n",
    "\n",
    "print(f\"\\n전체 평균 : {all_avg}\") # 출력\n",
    "print(f\"\\n90점 이상인 학생 명단 : {good_stu}\") # 출력\n"
   ]
  },
  {
   "cell_type": "code",
   "execution_count": 1,
   "metadata": {},
   "outputs": [
    {
     "name": "stdout",
     "output_type": "stream",
     "text": [
      "Alice 평균 : 89.0\n",
      "Bob 평균 : 82.0\n",
      "Charlie 평균 : 92.0\n",
      "\n",
      "전체 평균 : 87.66666666666667\n",
      "\n",
      "90점 이상인 학생 명단 : ['Alice', 'Charlie']\n"
     ]
    }
   ],
   "source": [
    "stu={'Alice':[90,85,92],\n",
    "     'Bob':[78,80,88],\n",
    "     'Charlie':[95,92,89]}\n",
    "\n",
    "\n",
    "all_sum = 0\n",
    "good_stu = [] \n",
    "\n",
    "for name,value in stu.items():\n",
    "    average = sum(stu[name])/len(stu[name])\n",
    "    print(f\"{name} 평균 : {average}\")\n",
    "    all_sum += average\n",
    "    if any(grade>=90 for grade in value):\n",
    "        good_stu.append(name)\n",
    "\n",
    "all_avg = all_sum/3 \n",
    "\n",
    "print(f\"\\n전체 평균 : {all_avg}\")\n",
    "print(f\"\\n90점 이상인 학생 명단 : {good_stu}\")\n"
   ]
  },
  {
   "cell_type": "code",
   "execution_count": null,
   "metadata": {},
   "outputs": [],
   "source": []
  },
  {
   "cell_type": "markdown",
   "metadata": {},
   "source": [
    "testing"
   ]
  },
  {
   "cell_type": "markdown",
   "metadata": {},
   "source": []
  }
 ],
 "metadata": {
  "kernelspec": {
   "display_name": "Python 3",
   "language": "python",
   "name": "python3"
  },
  "language_info": {
   "codemirror_mode": {
    "name": "ipython",
    "version": 3
   },
   "file_extension": ".py",
   "mimetype": "text/x-python",
   "name": "python",
   "nbconvert_exporter": "python",
   "pygments_lexer": "ipython3",
   "version": "3.11.9"
  }
 },
 "nbformat": 4,
 "nbformat_minor": 2
}
