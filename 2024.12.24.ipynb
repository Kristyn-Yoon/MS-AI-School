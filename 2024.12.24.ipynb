{
 "cells": [
  {
   "cell_type": "markdown",
   "metadata": {},
   "source": [
    "#### 2024-12-24"
   ]
  },
  {
   "cell_type": "markdown",
   "metadata": {},
   "source": [
    "복습하기"
   ]
  },
  {
   "cell_type": "code",
   "execution_count": 21,
   "metadata": {},
   "outputs": [
    {
     "name": "stdout",
     "output_type": "stream",
     "text": [
      "['닥터 스트레인지', '슈퍼맨']\n"
     ]
    }
   ],
   "source": [
    "movie_rank = [\"닥터 스트레인지\",\"스플릿\",\"럭키\"]\n",
    "movie_rank.append(\"배트맨\") # 맨뒤에 추가하기\n",
    "movie_rank.insert(1,\"슈퍼맨\") # 원하는 곳에 추가하기\n",
    "movie_rank.pop(3) # 원하는 곳에서 삭제\n",
    "movie_rank.remove('스플릿') # 해당 값 삭제\n",
    "movie_rank.pop() # 맨 뒤에꺼 삭제\n",
    "print(movie_rank)"
   ]
  },
  {
   "cell_type": "code",
   "execution_count": 22,
   "metadata": {},
   "outputs": [
    {
     "name": "stdout",
     "output_type": "stream",
     "text": [
      "apple banana cake\n"
     ]
    }
   ],
   "source": [
    "temp = ('apple','banana','cake')\n",
    "a,b,c = temp\n",
    "print(a,b,c)\n",
    "# 파이썬이 알아서 튜플을 언패킹해줌줌"
   ]
  },
  {
   "cell_type": "code",
   "execution_count": 24,
   "metadata": {},
   "outputs": [
    {
     "name": "stdout",
     "output_type": "stream",
     "text": [
      "010 1234 5678\n"
     ]
    }
   ],
   "source": [
    "phone_number = \"010-1234-5678\" #class \"string\"\n",
    "phone_number1 = phone_number.replace(\"-\",\" \") # replace -> 원하는 문자를 찾아서 대체\n",
    "print(phone_number1)"
   ]
  },
  {
   "cell_type": "code",
   "execution_count": 28,
   "metadata": {},
   "outputs": [
    {
     "name": "stdout",
     "output_type": "stream",
     "text": [
      "{a} {b} {c}\n",
      "30\n"
     ]
    }
   ],
   "source": [
    "# 정수 3개를 한번에 입력 받아 합계를 인쇄하는 코드를 설계해주세요\n",
    "a,b,c =input().split()\n",
    "s = int(a)+int(b)+int(c)\n",
    "\n",
    "print(\"{a} {b} {c}\")\n",
    "print(s)"
   ]
  },
  {
   "cell_type": "code",
   "execution_count": 41,
   "metadata": {},
   "outputs": [
    {
     "name": "stdout",
     "output_type": "stream",
     "text": [
      "박지민 178.5 28\n",
      "<class 'str'> <class 'str'> <class 'str'>\n",
      "name =  박지민 height =  178.5 age =  28\n"
     ]
    }
   ],
   "source": [
    "#이름, 키, 나이를 입력 받아 인쇄하기\n",
    "a, b, c=input().split()\n",
    "\n",
    "print(a ,b ,c)\n",
    "print(type(a),type(b),type(c))\n",
    "print('name = ', a, 'height = ', b, 'age = ',c)"
   ]
  },
  {
   "cell_type": "code",
   "execution_count": 43,
   "metadata": {},
   "outputs": [
    {
     "name": "stdout",
     "output_type": "stream",
     "text": [
      "50620\n"
     ]
    }
   ],
   "source": [
    "# 5명의 학생이 가지고 있는 예금의 합을 구하려고 한다. 학생별 예금 금액 정보는 dict로 구성되어 있다.\n",
    "#예금 금액의 합을 구하여 인쇄하는 코드를 설계하라.\n",
    "d = {'kim' : 34000, 'lee' : 12000, 'park' : 1200, 'lew' : 0, 'song' : 3420}\n",
    "\n",
    "money_sum = sum(d.values())\n",
    "print(money_sum)"
   ]
  },
  {
   "cell_type": "markdown",
   "metadata": {},
   "source": [
    "*******************************************************************************"
   ]
  },
  {
   "cell_type": "markdown",
   "metadata": {},
   "source": [
    "### 함수\n",
    "\n",
    "문자열을 입력 받아 각 문자들로 구성된 리스트로 반환하는 make_list 함수를 정의"
   ]
  },
  {
   "cell_type": "markdown",
   "metadata": {},
   "source": [
    "- String = Sequence 타입은 list(...)로 바로 변경 가능하다.\n",
    "- Sequence 타입: `리스트(list)`, `문자(character)`, `문자열(String)`, `튜플(Tuple)`이 있다."
   ]
  },
  {
   "cell_type": "code",
   "execution_count": 7,
   "metadata": {},
   "outputs": [
    {
     "data": {
      "text/plain": [
       "['a', 'b', 'c', 'd']"
      ]
     },
     "execution_count": 7,
     "metadata": {},
     "output_type": "execute_result"
    }
   ],
   "source": [
    "def make_list (string) :\n",
    "    return list(string)\n",
    "make_list(\"abcd\")"
   ]
  },
  {
   "cell_type": "markdown",
   "metadata": {},
   "source": [
    "- return\n",
    "    - 함수의 종료\n",
    "    - 함수는 함수 블록이 끝나거나 return 문을 만나면 종료\n",
    "    - return문은 함수 블록 어디에든 가능! 여러 번 가능!"
   ]
  },
  {
   "cell_type": "code",
   "execution_count": 1,
   "metadata": {},
   "outputs": [
    {
     "name": "stdout",
     "output_type": "stream",
     "text": [
      "result1 : [2, 3, 4, 5, 6]\n",
      "result2 : [2, 3, 4, 5, 6]\n"
     ]
    }
   ],
   "source": [
    "# map 함수 이용\n",
    "myList = [1,2,3,4,5]\n",
    "\n",
    "#모든 요소를 1씩 증가\n",
    "def add_one(n):\n",
    "    return n+1\n",
    "\n",
    "result1 =[]\n",
    "for i in myList:\n",
    "    a=add_one(i)\n",
    "    result1.append(a) \n",
    "\n",
    "print(f'result1 : {result1}')\n",
    "\n",
    "result2 = list(map(add_one, myList)) # map 하나로 짧아짐!!\n",
    "print(f'result2 : {result2}')"
   ]
  },
  {
   "cell_type": "markdown",
   "metadata": {},
   "source": [
    "### map\n",
    "\n",
    "- map(함수, 시퀀스)의 결과는 시퀀스의 각 요소에 함수를 적용해서 만든 새 이터러블입니다\n",
    "\n",
    "- 시퀀스 <-> 이터레이터 <-> 이터러블\n",
    " \n",
    "    - 시퀀스: 모든 값이 이미 담겨있는 리스트, 튜플 같은 자료구조입니다.\n",
    " \n",
    "    - 이터레이터: 값을 만드는 규칙을 저장하고, 필요할 때에 순서대로 값을 만들어줄 수 있는 자료구조입니다. \n",
    " \n",
    "    - 이터러블: 순서대로 값을 가져올 수 있는 성질을 말합니다. 이터레이터, 시퀀스 모두 값을 순서대로 가져올 수 있기 때문에 이터러블입니다.\n"
   ]
  },
  {
   "cell_type": "markdown",
   "metadata": {},
   "source": [
    "### zip"
   ]
  },
  {
   "cell_type": "code",
   "execution_count": 3,
   "metadata": {},
   "outputs": [
    {
     "name": "stdout",
     "output_type": "stream",
     "text": [
      "[(52, 19, 0), (255, 63, 68), (39, 227, 255), (132, 197, 187)]\n"
     ]
    }
   ],
   "source": [
    "#내장 함수 실습\n",
    "#zip 이미지의 색상별 데이터를 묶어서 24bpp RGB 이미지 만들기\n",
    "\n",
    "r = (52, 255, 39, 132)\n",
    "g = (19, 63, 227, 197)\n",
    "b = (0, 68, 255, 187)\n",
    "\n",
    "img = list(zip(r,g,b))\n",
    "print(img)"
   ]
  },
  {
   "cell_type": "markdown",
   "metadata": {},
   "source": [
    "### enumerate"
   ]
  },
  {
   "cell_type": "code",
   "execution_count": 11,
   "metadata": {},
   "outputs": [
    {
     "name": "stdout",
     "output_type": "stream",
     "text": [
      "{1: 'apple', 2: 'orange', 3: 'banana', 4: 'mango'}\n"
     ]
    }
   ],
   "source": [
    "f=('apple','orange','banana','mango')\n",
    "tag = dict(enumerate(f,start=1)) #tag = dict(enumerate(f,1)) 해도 동일일\n",
    "print(tag)"
   ]
  },
  {
   "cell_type": "markdown",
   "metadata": {},
   "source": [
    "### filter"
   ]
  },
  {
   "cell_type": "code",
   "execution_count": 12,
   "metadata": {},
   "outputs": [
    {
     "data": {
      "text/plain": [
       "[8, 7, 9]"
      ]
     },
     "execution_count": 12,
     "metadata": {},
     "output_type": "execute_result"
    }
   ],
   "source": [
    "def f(x):\n",
    "    return x>5 and x<10\n",
    "\n",
    "a = [8,3,2,10,15,7,1,9,0,11]\n",
    "list(filter(f,a))"
   ]
  },
  {
   "cell_type": "markdown",
   "metadata": {},
   "source": [
    "### 모듈"
   ]
  },
  {
   "cell_type": "code",
   "execution_count": 23,
   "metadata": {},
   "outputs": [
    {
     "name": "stdout",
     "output_type": "stream",
     "text": [
      "[39, 26, 40, 45, 23, 18]\n"
     ]
    }
   ],
   "source": [
    "#선생님 코드\n",
    "import random\n",
    "\n",
    "result = []\n",
    "while len(result)<6:\n",
    "    num = random.randint(1,45)\n",
    "    if num not in result:\n",
    "        result.append(num)\n",
    "\n",
    "print(result)"
   ]
  },
  {
   "cell_type": "markdown",
   "metadata": {},
   "source": [
    "### 모듈 업그레이드 미션"
   ]
  },
  {
   "cell_type": "code",
   "execution_count": 3,
   "metadata": {},
   "outputs": [
    {
     "name": "stdout",
     "output_type": "stream",
     "text": [
      "주먹은 잘못된 입력입니다. (가위,바위,보)\n",
      "user : 바위, com : 보 -> com이 이겼습니다.\n",
      "user : 가위, com : 가위 -> 비겼습니다.\n",
      "user : 보, com : 보 -> 비겼습니다.\n",
      "잘못된 입력입니다. (y/n)\n"
     ]
    }
   ],
   "source": [
    "#컴퓨터와 대결하는 가위,바위,보 게임 만들기\n",
    "import random\n",
    "\n",
    "sel = ['가위','바위','보']\n",
    "\n",
    "def checkWin(a,b): #a가 사용자, b가 com\n",
    "    if a == b:\n",
    "        print(f\"user : {a}, com : {b} -> 비겼습니다.\")\n",
    "        return True\n",
    "    elif (a=='가위' and b=='보') or (a=='바위' and b=='가위') or (a=='보' and b=='바위'):\n",
    "        print(f\"user : {a}, com : {b} -> user이 이겼습니다.\")\n",
    "        return True\n",
    "    elif (a=='가위' and b=='바위') or (a=='바위' and b=='보') or (a=='보' and b=='가위'):\n",
    "        print(f\"user : {a}, com : {b} -> com이 이겼습니다.\")\n",
    "        return True\n",
    "    else:\n",
    "        return False\n",
    "    \n",
    "def continueComfirm():\n",
    "    while True:\n",
    "        answer = input(\"게임을 계속하시겠습니까? (y/n) : \").lower()\n",
    "        if answer == 'y':\n",
    "            return True\n",
    "        elif answer == 'n':\n",
    "            return False\n",
    "        else:\n",
    "            print(\"잘못된 입력입니다. (y/n)\")\n",
    "    \n",
    "while True:\n",
    "    user = input(\"가위, 바위, 보 : \")\n",
    "    com = sel[random.randint(0,2)]\n",
    "    if checkWin(user,com):\n",
    "        if continueComfirm():\n",
    "            continue\n",
    "        else :\n",
    "            break\n",
    "    else:\n",
    "        print(f'{user}은 잘못된 입력입니다. (가위,바위,보)')"
   ]
  },
  {
   "cell_type": "markdown",
   "metadata": {},
   "source": [
    "### 클래스"
   ]
  },
  {
   "cell_type": "code",
   "execution_count": 8,
   "metadata": {},
   "outputs": [],
   "source": [
    "class Dog:\n",
    "    species = \"Doberman\"\n",
    "\n",
    "    def __init__(self,name,age):\n",
    "        self.name = name\n",
    "        self.age = age\n",
    "\n",
    "    def bark(self):\n",
    "        return f'{self.name} is barking'"
   ]
  },
  {
   "cell_type": "code",
   "execution_count": 15,
   "metadata": {},
   "outputs": [],
   "source": [
    "dog1 = Dog('Happy',3)"
   ]
  },
  {
   "cell_type": "code",
   "execution_count": 16,
   "metadata": {},
   "outputs": [
    {
     "data": {
      "text/plain": [
       "__main__.Dog"
      ]
     },
     "execution_count": 16,
     "metadata": {},
     "output_type": "execute_result"
    }
   ],
   "source": [
    "type(dog1)"
   ]
  },
  {
   "cell_type": "code",
   "execution_count": 10,
   "metadata": {},
   "outputs": [
    {
     "data": {
      "text/plain": [
       "'Happy is barking'"
      ]
     },
     "execution_count": 10,
     "metadata": {},
     "output_type": "execute_result"
    }
   ],
   "source": [
    "dog1.bark()"
   ]
  },
  {
   "cell_type": "code",
   "execution_count": 13,
   "metadata": {},
   "outputs": [
    {
     "data": {
      "text/plain": [
       "'Happy'"
      ]
     },
     "execution_count": 13,
     "metadata": {},
     "output_type": "execute_result"
    }
   ],
   "source": [
    "dog1.name"
   ]
  },
  {
   "cell_type": "code",
   "execution_count": 14,
   "metadata": {},
   "outputs": [
    {
     "data": {
      "text/plain": [
       "3"
      ]
     },
     "execution_count": 14,
     "metadata": {},
     "output_type": "execute_result"
    }
   ],
   "source": [
    "dog1.age"
   ]
  },
  {
   "cell_type": "code",
   "execution_count": 19,
   "metadata": {},
   "outputs": [
    {
     "data": {
      "text/plain": [
       "'Max is barking'"
      ]
     },
     "execution_count": 19,
     "metadata": {},
     "output_type": "execute_result"
    }
   ],
   "source": [
    "dog2 = Dog('Max',5)\n",
    "dog2.bark()\n"
   ]
  },
  {
   "cell_type": "code",
   "execution_count": 20,
   "metadata": {},
   "outputs": [
    {
     "data": {
      "text/plain": [
       "'Max'"
      ]
     },
     "execution_count": 20,
     "metadata": {},
     "output_type": "execute_result"
    }
   ],
   "source": [
    "dog2.name"
   ]
  },
  {
   "cell_type": "code",
   "execution_count": 21,
   "metadata": {},
   "outputs": [
    {
     "data": {
      "text/plain": [
       "5"
      ]
     },
     "execution_count": 21,
     "metadata": {},
     "output_type": "execute_result"
    }
   ],
   "source": [
    "dog2.age"
   ]
  },
  {
   "cell_type": "code",
   "execution_count": 22,
   "metadata": {},
   "outputs": [],
   "source": [
    "class FourCal:\n",
    "    def __init__(self,num1,num2):\n",
    "        self.num1 = num1\n",
    "        self.num2 = num2\n",
    "    def add(self):\n",
    "        result = self.num1 + self.num2\n",
    "        return result\n",
    "    def sub(self):\n",
    "        result = self.num1 - self.num2\n",
    "        return result\n",
    "    def mul(self):\n",
    "        result = self.num1 * self.num2\n",
    "        return result\n",
    "    def div(self):\n",
    "        result = self.num1 / self.num2\n",
    "        return result\n",
    "    \n",
    "    #div를 저렇게 하면 분모로 0이 오면 에러 남!!"
   ]
  },
  {
   "cell_type": "code",
   "execution_count": 29,
   "metadata": {},
   "outputs": [],
   "source": [
    "a= FourCal(7,3)\n",
    "b= FourCal(4,2)"
   ]
  },
  {
   "cell_type": "code",
   "execution_count": 30,
   "metadata": {},
   "outputs": [
    {
     "data": {
      "text/plain": [
       "3"
      ]
     },
     "execution_count": 30,
     "metadata": {},
     "output_type": "execute_result"
    }
   ],
   "source": [
    "a.num2"
   ]
  },
  {
   "cell_type": "code",
   "execution_count": 31,
   "metadata": {},
   "outputs": [
    {
     "data": {
      "text/plain": [
       "4"
      ]
     },
     "execution_count": 31,
     "metadata": {},
     "output_type": "execute_result"
    }
   ],
   "source": [
    "a.sub()"
   ]
  },
  {
   "cell_type": "code",
   "execution_count": 32,
   "metadata": {},
   "outputs": [],
   "source": [
    "class AdvancedFourCal(FourCal):\n",
    "    def pow(self):\n",
    "        return self.num1 ** self.num2\n"
   ]
  },
  {
   "cell_type": "code",
   "execution_count": 34,
   "metadata": {},
   "outputs": [],
   "source": [
    "c = AdvancedFourCal(4,2)"
   ]
  },
  {
   "cell_type": "code",
   "execution_count": 36,
   "metadata": {},
   "outputs": [
    {
     "data": {
      "text/plain": [
       "16"
      ]
     },
     "execution_count": 36,
     "metadata": {},
     "output_type": "execute_result"
    }
   ],
   "source": [
    "c.pow()"
   ]
  },
  {
   "cell_type": "code",
   "execution_count": 37,
   "metadata": {},
   "outputs": [
    {
     "data": {
      "text/plain": [
       "2"
      ]
     },
     "execution_count": 37,
     "metadata": {},
     "output_type": "execute_result"
    }
   ],
   "source": [
    "c.sub()"
   ]
  },
  {
   "cell_type": "code",
   "execution_count": 38,
   "metadata": {},
   "outputs": [],
   "source": [
    "class SafeFourCal(FourCal):\n",
    "    def div(self):\n",
    "        if self.num2 == 0 :\n",
    "            return 0 # 함수 종료되게 함\n",
    "        else:\n",
    "            return self.num1 / self.num2 #오버라이팅"
   ]
  },
  {
   "cell_type": "code",
   "execution_count": 39,
   "metadata": {},
   "outputs": [
    {
     "data": {
      "text/plain": [
       "0"
      ]
     },
     "execution_count": 39,
     "metadata": {},
     "output_type": "execute_result"
    }
   ],
   "source": [
    "e = SafeFourCal(5,0)\n",
    "e.div()"
   ]
  }
 ],
 "metadata": {
  "kernelspec": {
   "display_name": "Python 3",
   "language": "python",
   "name": "python3"
  },
  "language_info": {
   "codemirror_mode": {
    "name": "ipython",
    "version": 3
   },
   "file_extension": ".py",
   "mimetype": "text/x-python",
   "name": "python",
   "nbconvert_exporter": "python",
   "pygments_lexer": "ipython3",
   "version": "3.13.1"
  }
 },
 "nbformat": 4,
 "nbformat_minor": 2
}
